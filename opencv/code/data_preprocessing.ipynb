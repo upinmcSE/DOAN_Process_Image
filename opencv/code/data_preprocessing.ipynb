{
  "nbformat": 4,
  "nbformat_minor": 0,
  "metadata": {
    "colab": {
      "private_outputs": true,
      "provenance": []
    },
    "kernelspec": {
      "name": "python3",
      "display_name": "Python 3"
    },
    "language_info": {
      "name": "python"
    }
  },
  "cells": [
    {
      "cell_type": "code",
      "execution_count": null,
      "metadata": {
        "id": "VTjBqn74qfHB"
      },
      "outputs": [],
      "source": [
        "# Import các thư viện cần thiết\n",
        "import numpy as np\n",
        "import cv2\n",
        "import pandas as pd\n",
        "import os\n",
        "import pickle\n",
        "from google.colab import drive\n",
        "from google.colab.patches import cv2_imshow"
      ]
    },
    {
      "cell_type": "code",
      "source": [
        "# Connect Google Drive\n",
        "drive.mount('/content/drive')\n",
        "path = '/content/drive/MyDrive/test_cv/project/'\n",
        "# Hiển thị tất cả thư mục hoặc file\n",
        "os.listdir(path)"
      ],
      "metadata": {
        "id": "YhFNYVXmr5y1"
      },
      "execution_count": null,
      "outputs": []
    },
    {
      "cell_type": "code",
      "source": [
        "# Face detection model\n",
        "faceDetectionModel = '/content/drive/MyDrive/test_cv/project/models/res10_300x300_ssd_iter_140000_fp16.caffemodel';\n",
        "\n",
        "# Mô tả kiến trúc\n",
        "faceDetectionProto = '/content/drive/MyDrive/test_cv/project/models/deploy.prototxt.txt'\n",
        "\n",
        "# Mô hình mô tả khuôn mặt\n",
        "faceDescriptor = '/content/drive/MyDrive/test_cv/project/models/openface.nn4.small2.v1.t7'\n",
        "\n",
        "# Sử dụng OpenCV DNN đọc mô hìn nhận diện khuôn mặt\n",
        "dectectorModel = cv2.dnn.readNetFromCaffe(faceDetectionProto, faceDetectionModel)\n",
        "\n",
        "# Đọc mô hình mô tả khuôn mặt từ file Torch\n",
        "descriptorModel = cv2.dnn.readNetFromTorch(faceDescriptor)"
      ],
      "metadata": {
        "id": "Tj48crtrq53j"
      },
      "execution_count": null,
      "outputs": []
    },
    {
      "cell_type": "code",
      "source": [
        "# Danh sách hình ảnh chuẩn bị\n",
        "faces = '/content/drive/MyDrive/test_cv/project/faces'\n",
        "\n",
        "os.listdir(faces)"
      ],
      "metadata": {
        "id": "yARP8sfbuQfE"
      },
      "execution_count": null,
      "outputs": []
    },
    {
      "cell_type": "code",
      "source": [
        "# Hiển thị một ảnh\n",
        "imgObama = '/content/drive/MyDrive/test_cv/project/faces/01_Obama/obama (15).jpg'\n",
        "img = cv2.imread(imgObama)\n",
        "cv2_imshow(img)"
      ],
      "metadata": {
        "id": "RAHuSAJuunAK"
      },
      "execution_count": null,
      "outputs": []
    },
    {
      "cell_type": "code",
      "source": [
        "# Trích xuất đặc trưng cho một ảnh\n",
        "path = '/content/drive/MyDrive/test_cv/project/faces/01_Obama/obama (15).jpg'\n",
        "img1 = cv2.imread(imgObama)\n",
        "\n",
        "# Copy cái ảnh\n",
        "image = img1.copy()\n",
        "\n",
        "# Lấy chiều cao và chiều rộng của ảnh\n",
        "h, w = image.shape[:2]\n",
        "\n",
        "# Chuẩn bị dữ liệu đầu vào cho mô hình nhận diện khuôn mặt\n",
        "imgBlob = cv2.dnn.blobFromImage(image, 1, (300,300), (104, 177, 123), swapRB=False, crop=False)\n",
        "\n",
        "# Thiết lập đầu vào cho mô hình\n",
        "dectectorModel.setInput(imgBlob)\n",
        "\n",
        "# Thực hiện việc nhận diện khuôn mặt\n",
        "detections = dectectorModel.forward()\n",
        "\n",
        "# Kiểm tra xem có khuôn mặt nào hay không?\n",
        "if (len(detections)>0):\n",
        "  # Chọn khuôn mặt có độ tin cậy cao nhất (confidence) cao nhất\n",
        "  i = np.argmax(detections[0, 0, :, 2]) # Giá trị thứ 2 trong 7 giá trị cuối cùng => confidence\n",
        "  confidence = detections[0, 0, i, 2]\n",
        "\n",
        "  # Kiểm tra độ tin cậy có lớn hơn 0.5\n",
        "  if (confidence>0.5):\n",
        "      # Tính toán hộp bao quanh khuôn mặt\n",
        "      box = detections[0, 0, i, 3:7]* np.array([w, h, w, h])\n",
        "      (startX, startY, endX, endY) =box.astype('int')\n",
        "\n",
        "      # Trích xuất vùng ảnh chứa khuôn mặt ra\n",
        "      roi = image[startY:endY, startX:endX]\n",
        "      cv2_imshow(roi)\n",
        "\n",
        "      # Chuẩn bị dữ liệu đầu vào cho mô hình trích xuất đặc trưng\n",
        "      faceBlob = cv2.dnn.blobFromImage(roi, 1/255, (96,96), (0,0,0), swapRB=True, crop=True)\n",
        "\n",
        "      # Thiết lập đầu vào cho mô hình\n",
        "      descriptorModel.setInput(faceBlob)\n",
        "\n",
        "      # Thực hiện việc trích xuất đặc trưng\n",
        "      vectors = descriptorModel.forward()\n",
        "\n",
        "      # Print vectors\n",
        "      print(vectors)"
      ],
      "metadata": {
        "id": "jmeKwUk-vQox"
      },
      "execution_count": null,
      "outputs": []
    },
    {
      "cell_type": "code",
      "source": [
        "# Tạo ra một functions để áp dụng cho nhiều ảnh\n",
        "def myDetect(image_path):\n",
        "  # Trích xuất đặc trưng cho một ảnh\n",
        "  img1 = cv2.imread(image_path)\n",
        "\n",
        "  # Copy cái ảnh\n",
        "  image = img1.copy()\n",
        "\n",
        "  # Lấy chiều cao và chiều rộng của ảnh\n",
        "  h, w = image.shape[:2]\n",
        "\n",
        "  # Chuẩn bị dữ liệu đầu vào cho mô hình nhận diện khuôn mặt\n",
        "  imgBlob = cv2.dnn.blobFromImage(image, 1, (300,300), (104, 177, 123), swapRB=False, crop=False)\n",
        "\n",
        "  # Thiết lập đầu vào cho mô hình\n",
        "  dectectorModel.setInput(imgBlob)\n",
        "\n",
        "  # Thực hiện việc nhận diện khuôn mặt\n",
        "  detections = dectectorModel.forward()\n",
        "\n",
        "  # Kiểm tra xem có khuôn mặt nào hay không?\n",
        "  if (len(detections)>0):\n",
        "    # Chọn khuôn mặt có độ tin cậy cao nhất (confidence) cao nhất\n",
        "    i = np.argmax(detections[0, 0, :, 2]) # Giá trị thứ 2 trong 7 giá trị cuối cùng => confidence\n",
        "    confidence = detections[0, 0, i, 2]\n",
        "\n",
        "    # Kiểm tra độ tin cậy có lớn hơn 0.5\n",
        "    if (confidence>0.5):\n",
        "        # Tính toán hộp bao quanh khuôn mặt\n",
        "        box = detections[0, 0, i, 3:7]* np.array([w, h, w, h])\n",
        "        (startX, startY, endX, endY) =box.astype('int')\n",
        "\n",
        "        # Trích xuất vùng ảnh chứa khuôn mặt ra\n",
        "        roi = image[startY:endY, startX:endX]\n",
        "        # cv2_imshow(roi)\n",
        "\n",
        "        # Chuẩn bị dữ liệu đầu vào cho mô hình trích xuất đặc trưng\n",
        "        faceBlob = cv2.dnn.blobFromImage(roi, 1/255, (96,96), (0,0,0), swapRB=True, crop=True)\n",
        "\n",
        "        # Thiết lập đầu vào cho mô hình\n",
        "        descriptorModel.setInput(faceBlob)\n",
        "\n",
        "        # Thực hiện việc trích xuất đặc trưng\n",
        "        vectors = descriptorModel.forward()\n",
        "\n",
        "        # Print vectors\n",
        "        return vectors"
      ],
      "metadata": {
        "id": "qOaKxEL00D5k"
      },
      "execution_count": null,
      "outputs": []
    },
    {
      "cell_type": "code",
      "source": [
        "# Apply for all images\n",
        "\n",
        "# Khởi tạo một dictionary\n",
        "data = dict(data=[], label=[])\n",
        "\n",
        "myDir = '/content/drive/MyDrive/test_cv/project/faces'\n",
        "folders = os.listdir(myDir)\n",
        "\n",
        "# Duyệt qua từng thư mục\n",
        "for folder in folders:\n",
        "  path = myDir + \"/\"+folder\n",
        "  print(path)\n",
        "\n",
        "  files =  os.listdir(path)\n",
        "  for fileName in files:\n",
        "    try:\n",
        "        # Gọi hàm trích xuất đặc trưng\n",
        "        vector = myDetect(path+'/'+fileName)\n",
        "\n",
        "        # Kiểm tra việc trích xuất đặc trưng thành công:\n",
        "        if vector is not None:\n",
        "          #Thêm vector đặc trưng vào trong từ điển với nhãn là tên của thư mục\n",
        "          data['data'].append(vector)\n",
        "          data['label'].append(folder)\n",
        "          print('Trích xuất đặc trưng thành công')\n",
        "    except:\n",
        "      # Bỏ qua nếu gặp lỗi\n",
        "      pass"
      ],
      "metadata": {
        "id": "qn62mFSQ2Qew"
      },
      "execution_count": null,
      "outputs": []
    },
    {
      "cell_type": "code",
      "source": [
        "data.keys()"
      ],
      "metadata": {
        "id": "V70RBnQ-4o8_"
      },
      "execution_count": null,
      "outputs": []
    },
    {
      "cell_type": "code",
      "source": [
        "# Tạo một series từ dictionary\n",
        "labelSeries = pd.Series(data['label'])\n",
        "# Đếm số lần xuất hiện của mỗi nhãn\n",
        "labelCounts = labelSeries.value_counts()\n",
        "print(labelCounts)"
      ],
      "metadata": {
        "id": "M1iQmZhs4vkx"
      },
      "execution_count": null,
      "outputs": []
    },
    {
      "cell_type": "code",
      "source": [
        "# Save data -> file\n",
        "print('/content/drive/MyDrive/test_cv/project/')\n",
        "fileName = '/content/drive/MyDrive/test_cv/project/data_face_features.pickle'\n",
        "pickle.dump(data, open(fileName, mode='wb'))"
      ],
      "metadata": {
        "id": "uDKzPQXW5Ta_"
      },
      "execution_count": null,
      "outputs": []
    }
  ]
}